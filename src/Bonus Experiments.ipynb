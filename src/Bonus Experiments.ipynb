{
 "cells": [
  {
   "cell_type": "code",
   "execution_count": 18,
   "metadata": {},
   "outputs": [
    {
     "name": "stdout",
     "output_type": "stream",
     "text": [
      "Running on device: CUDA\n"
     ]
    }
   ],
   "source": [
    "import random\n",
    "import os\n",
    "import requests\n",
    "import numpy as np\n",
    "import matplotlib.pyplot as plt\n",
    "import seaborn as sns\n",
    "from sklearn import linear_model, model_selection\n",
    "from sklearn.linear_model import LogisticRegression\n",
    "from tqdm import tqdm\n",
    "import torch\n",
    "from torch import nn\n",
    "from torch import optim\n",
    "import torch.nn.functional as F\n",
    "from torch.utils.data import DataLoader, ConcatDataset, TensorDataset\n",
    "from multiprocessing import Pool\n",
    "import torchvision\n",
    "from torchvision import transforms\n",
    "from torchvision.utils import make_grid\n",
    "from torchvision.models import resnet18\n",
    "\n",
    "\n",
    "DEVICE = \"cuda\" if torch.cuda.is_available() else \"cpu\"\n",
    "print(\"Running on device:\", DEVICE.upper())\n",
    "\n",
    "n = 10\n",
    "# manual random seed is used for dataset partitioning\n",
    "# to ensure reproducible results across runs\n",
    "seed = 128\n",
    "RNG = torch.Generator().manual_seed(seed)#42\n",
    "torch.manual_seed(seed)\n",
    "torch.cuda.manual_seed(seed)\n",
    "np.random.seed(seed)\n",
    "os.environ[\"PYTHONHASHSEED\"] = str(seed)\n",
    "torch.backends.cudnn.deterministic = True\n",
    "torch.backends.cudnn.benchmark = False\n",
    "random.seed(seed)"
   ]
  },
  {
   "cell_type": "code",
   "execution_count": 19,
   "metadata": {},
   "outputs": [],
   "source": [
    "class AddGaussianNoise(object):\n",
    "    def __init__(self, mean=0., std=1., device='cuda'):\n",
    "        self.std = std\n",
    "        self.mean = mean\n",
    "        self.device = device\n",
    "        \n",
    "    def __call__(self, tensor):\n",
    "        _max = tensor.max()\n",
    "        _min = tensor.min()\n",
    "        tensor = tensor + torch.randn(tensor.size()).to(self.device) * self.std + self.mean\n",
    "        tensor = torch.clamp(tensor, min=_min, max=_max)\n",
    "        return tensor\n",
    "    \n",
    "    def __repr__(self):\n",
    "        return self.__class__.__name__ + '(mean={0}, std={1})'.format(self.mean, self.std)"
   ]
  },
  {
   "cell_type": "code",
   "execution_count": 20,
   "metadata": {},
   "outputs": [],
   "source": [
    "def compute_losses(net, loader):\n",
    "    \"\"\"Auxiliary function to compute per-sample losses\"\"\"\n",
    "\n",
    "    criterion = nn.CrossEntropyLoss(reduction=\"none\")\n",
    "    all_losses = []\n",
    "    all_inputs = []\n",
    "    for inputs, targets in loader:\n",
    "        inputs, targets = inputs.to(DEVICE), targets.to(DEVICE)\n",
    "\n",
    "        logits = net(inputs)\n",
    "        losses = criterion(logits, targets).numpy(force=True)\n",
    "        for idx, l in enumerate(losses):\n",
    "            all_losses.append(l)\n",
    "            all_inputs.append(inputs[idx].cpu().numpy())\n",
    "    return all_inputs, np.array(all_losses)"
   ]
  },
  {
   "cell_type": "code",
   "execution_count": 21,
   "metadata": {},
   "outputs": [],
   "source": [
    "def simple_mia(sample_loss, members, n_splits=10, random_state=0):\n",
    "    \"\"\"Computes cross-validation score of a membership inference attack.\n",
    "\n",
    "    Args:\n",
    "      sample_loss : array_like of shape (n,).\n",
    "        objective function evaluated on n samples.\n",
    "      members : array_like of shape (n,),\n",
    "        whether a sample was used for training.\n",
    "      n_splits: int\n",
    "        number of splits to use in the cross-validation.\n",
    "    Returns:\n",
    "      scores : array_like of size (n_splits,)\n",
    "    \"\"\"\n",
    "\n",
    "    unique_members = np.unique(members)\n",
    "    if not np.all(unique_members == np.array([0, 1])):\n",
    "        raise ValueError(\"members should only have 0 and 1s\")\n",
    "\n",
    "    attack_model = linear_model.LogisticRegression()\n",
    "    attack_model.fit(sample_loss, members)\n",
    "    score = attack_model.score(sample_loss, members)\n",
    "    preds = attack_model.predict(sample_loss)\n",
    "    correct_idx= np.where(preds == members)[0]\n",
    "    wrong_idx = np.where(preds != members)[0]\n",
    "    return score, correct_idx, wrong_idx"
   ]
  },
  {
   "cell_type": "code",
   "execution_count": 22,
   "metadata": {},
   "outputs": [],
   "source": [
    "def make_boxplot(data, title, x_label, y_label, x_ticklabels=None, save_path=None, showfliers=True):\n",
    "    fig, ax = plt.subplots(figsize=(8, 6))\n",
    "    ax = sns.boxplot(data=data, ax=ax, showfliers=showfliers)\n",
    "    ax.set_title(title)\n",
    "    ax.set_xlabel(x_label)\n",
    "    ax.set_ylabel(y_label)\n",
    "    if x_ticklabels is not None:\n",
    "        ax.set_xticklabels(x_ticklabels)\n",
    "    if save_path is not None:\n",
    "        plt.savefig(save_path)\n",
    "    plt.show()"
   ]
  },
  {
   "cell_type": "code",
   "execution_count": 23,
   "metadata": {},
   "outputs": [
    {
     "name": "stdout",
     "output_type": "stream",
     "text": [
      "Files already downloaded and verified\n",
      "Files already downloaded and verified\n"
     ]
    }
   ],
   "source": [
    "# download and pre-process CIFAR10\n",
    "normalize = transforms.Compose(\n",
    "    [\n",
    "        transforms.ToTensor(),\n",
    "        transforms.Normalize((0.4914, 0.4822, 0.4465), (0.2023, 0.1994, 0.2010)),\n",
    "    ]\n",
    ")\n",
    "\n",
    "train_set = torchvision.datasets.CIFAR10(\n",
    "    root=\"./data\", train=True, download=True, transform=normalize\n",
    ")\n",
    "\n",
    "train_loader = DataLoader(train_set, batch_size=128, shuffle=True, num_workers=2)\n",
    "\n",
    "# we split held out data into test and validation set\n",
    "held_out = torchvision.datasets.CIFAR10(\n",
    "    root=\"./data\", train=False, download=True, transform=normalize\n",
    ")\n",
    "test_set, val_set = torch.utils.data.random_split(held_out, [0.5, 0.5], generator=RNG)\n",
    "test_loader = DataLoader(test_set, batch_size=128, shuffle=False, num_workers=2)\n",
    "val_loader = DataLoader(val_set, batch_size=128, shuffle=False, num_workers=2)\n",
    "\n",
    "# for the unlearning algorithm we'll also need a split of the train set into\n",
    "# forget_set and a retain_set\n",
    "forget_set, retain_set = torch.utils.data.random_split(train_set, [0.1, 0.9], generator=RNG)\n",
    "forget_loader = torch.utils.data.DataLoader(\n",
    "    forget_set, batch_size=64, shuffle=False, num_workers=2, generator=RNG\n",
    ")\n",
    "retain_loader = torch.utils.data.DataLoader(\n",
    "    retain_set, batch_size=128, shuffle=False, num_workers=2, generator=RNG\n",
    ")"
   ]
  },
  {
   "cell_type": "code",
   "execution_count": 24,
   "metadata": {},
   "outputs": [],
   "source": [
    "class SimpleCNN(nn.Module):\n",
    "    def __init__(self):\n",
    "        super(SimpleCNN, self).__init__()\n",
    "        self.conv1 = nn.Conv2d(3, 32, kernel_size=3, stride=1, padding=1)\n",
    "        self.relu1 = nn.ReLU()\n",
    "        self.maxpool1 = nn.MaxPool2d(kernel_size=2)\n",
    "        self.conv2 = nn.Conv2d(32, 64, kernel_size=3, stride=1, padding=1)\n",
    "        self.relu2 = nn.ReLU()\n",
    "        self.maxpool2 = nn.MaxPool2d(kernel_size=2)\n",
    "        self.fc1 = nn.Linear(8*8*64, 128)\n",
    "        self.relu3 = nn.ReLU()\n",
    "        self.fc2 = nn.Linear(128, 10)\n",
    "\n",
    "    def forward(self, x):\n",
    "        x = self.conv1(x)\n",
    "        x = self.relu1(x)\n",
    "        x = self.maxpool1(x)\n",
    "        x = self.conv2(x)\n",
    "        x = self.relu2(x)\n",
    "        x = self.maxpool2(x)\n",
    "        x = x.view(x.size(0), -1)  # Flatten the tensor\n",
    "        x = self.fc1(x)\n",
    "        x = self.relu3(x)\n",
    "        x = self.fc2(x)\n",
    "        return x"
   ]
  },
  {
   "cell_type": "code",
   "execution_count": 25,
   "metadata": {},
   "outputs": [],
   "source": [
    "def test(model):\n",
    "    criterion = nn.CrossEntropyLoss()\n",
    "    test_acc = 0\n",
    "    for x,y in test_loader:\n",
    "        x = x.to(DEVICE)\n",
    "        y = y.to(DEVICE)\n",
    "        pred = model(x)\n",
    "        loss = criterion(pred, y)\n",
    "        acc = (pred.argmax(dim=1) == y).float().mean()\n",
    "        test_acc += acc.item()\n",
    "    tqdm.write(f\"Test accuracy: {test_acc / len(test_loader)}\")"
   ]
  },
  {
   "cell_type": "code",
   "execution_count": 29,
   "metadata": {},
   "outputs": [],
   "source": [
    "def calculate_smoothness(model, target_sample: tuple[np.ndarray, np.ndarray]):\n",
    "    \"\"\"Computes the smoothness of the target sample with respect to a set of random points.\n",
    "\n",
    "    Args:\n",
    "      model: torch.nn.Module\n",
    "      target_sample: tuple of np.ndarray of shape ((n_features,), model_prediction)\n",
    "\n",
    "    Returns:\n",
    "      smoothness: float\n",
    "    \"\"\"\n",
    "\n",
    "    sample = [target_sample[0], target_sample[1]]\n",
    "    gnoise = AddGaussianNoise(std=0.1)\n",
    "\n",
    "    smoothness = 0\n",
    "    for i in range(10):        \n",
    "        x = gnoise(torch.tensor(sample[0]).to(DEVICE))\n",
    "        x_pred = model(x.unsqueeze(0)).detach().cpu().numpy()\n",
    "        x = x.detach().cpu().numpy()\n",
    "        smoothness += (np.linalg.norm(sample[1] - x_pred))/(np.linalg.norm(sample[0] - x))\n",
    "    return smoothness / 100"
   ]
  },
  {
   "cell_type": "markdown",
   "metadata": {},
   "source": [
    "## Entropy against Norm Experiment\n",
    "\n",
    "Visualises how our entropy changes as we add noise to a sample, then repeats this for samples that have been forgotten using Lipschitz, and for a retrained model. Hoping to see the Entropy of unlearned samples represent the retrained model more than the base model"
   ]
  },
  {
   "cell_type": "code",
   "execution_count": 31,
   "metadata": {},
   "outputs": [],
   "source": [
    "def calculate_mean_entropy(model, loader):\n",
    "    \"\"\"\n",
    "    Calculate the entropy of the model over the data\n",
    "    \"\"\"\n",
    "    entropy = 0\n",
    "    entropy_list = []\n",
    "    for x,y in loader.dataset:\n",
    "        x = x.to(DEVICE)        \n",
    "        with torch.no_grad():\n",
    "            pred = model(x.unsqueeze(0))\n",
    "        ent = -torch.sum(F.softmax(pred, dim=1) * F.log_softmax(pred, dim=1), dim=1).mean().item()\n",
    "        entropy += ent\n",
    "        entropy_list.append(ent)\n",
    "    return entropy / len(loader.dataset), np.std(entropy_list), entropy_list"
   ]
  },
  {
   "cell_type": "code",
   "execution_count": 32,
   "metadata": {},
   "outputs": [],
   "source": [
    "def calculate_entropy_and_norm(model, loader, noise):\n",
    "    \"\"\"\n",
    "    Calculate the entropy of the model and the noise norm over the data\n",
    "    \"\"\"\n",
    "    entropy = 0\n",
    "    entropy_list = []\n",
    "    norm = 0\n",
    "    for x,y in loader.dataset:\n",
    "        x = x.to(DEVICE)        \n",
    "        nx = noise(x)\n",
    "        with torch.no_grad():        \n",
    "            pred = model(nx.unsqueeze(0))\n",
    "        ent = -torch.sum(F.softmax(pred, dim=1) * F.log_softmax(pred, dim=1), dim=1).mean().item()\n",
    "        entropy += ent\n",
    "        entropy_list.append(ent)\n",
    "        norm += np.linalg.norm((x-nx).abs().detach().cpu().numpy())\n",
    "    return entropy / len(loader.dataset), norm / len(loader.dataset), np.std(entropy_list)"
   ]
  },
  {
   "cell_type": "code",
   "execution_count": 33,
   "metadata": {},
   "outputs": [],
   "source": [
    "def train(n_epochs, model, train_loader, test_loader):\n",
    "    model.to(DEVICE)\n",
    "    criterion = nn.CrossEntropyLoss()\n",
    "    opt = optim.SGD(model.parameters(), lr=0.01,\n",
    "                        momentum=0.9, weight_decay=5e-4)\n",
    "    # scheduler = torch.optim.lr_scheduler.CosineAnnealingLR(opt, T_max=n_epochs)\n",
    "    scheduler = torch.optim.lr_scheduler.OneCycleLR(opt, max_lr=0.1, steps_per_epoch=len(train_loader), epochs=n_epochs)\n",
    "    for epoch in tqdm(range(n_epochs), desc='Training model | Epochs'):\n",
    "        for x,y in train_loader:\n",
    "            x = x.to(DEVICE)\n",
    "            y = y.to(DEVICE)\n",
    "            pred = model(x)\n",
    "            loss = criterion(pred, y)\n",
    "            opt.zero_grad()\n",
    "            loss.backward()\n",
    "            opt.step()\n",
    "        if (epoch % 2) ==0:\n",
    "            test(model)\n",
    "        # if epoch % 10 == 0:        \n",
    "        #     tqdm.write(f\"Epoch: {epoch} || Avg Test K: {get_avg_K(model, test_loader.dataset, n=15)} || Avg Train K: {get_avg_K(model, train_loader.dataset, n=15)}\")\n",
    "        #     tqdm.write(f\"Epoch: {epoch} || Max Test K: {get_K(model, test_loader.dataset, n=15)} Max Train K: {get_K(model, train_loader.dataset, n=15)}\")\n",
    "        if scheduler is not None:\n",
    "            scheduler.step()\n",
    "    test(model)"
   ]
  },
  {
   "cell_type": "code",
   "execution_count": 34,
   "metadata": {},
   "outputs": [
    {
     "name": "stderr",
     "output_type": "stream",
     "text": [
      "Training model | Epochs:   0%|          | 0/30 [00:00<?, ?it/s]"
     ]
    },
    {
     "name": "stderr",
     "output_type": "stream",
     "text": [
      "Training model | Epochs:   3%|▎         | 1/30 [00:22<10:39, 22.06s/it]"
     ]
    },
    {
     "name": "stdout",
     "output_type": "stream",
     "text": [
      "Test accuracy: 0.5587890625\n"
     ]
    },
    {
     "name": "stderr",
     "output_type": "stream",
     "text": [
      "Training model | Epochs:  10%|█         | 3/30 [00:57<08:41, 19.32s/it]"
     ]
    },
    {
     "name": "stdout",
     "output_type": "stream",
     "text": [
      "Test accuracy: 0.672265625\n"
     ]
    },
    {
     "name": "stderr",
     "output_type": "stream",
     "text": [
      "Training model | Epochs:  17%|█▋        | 5/30 [01:34<07:57, 19.11s/it]"
     ]
    },
    {
     "name": "stdout",
     "output_type": "stream",
     "text": [
      "Test accuracy: 0.7123046875\n"
     ]
    },
    {
     "name": "stderr",
     "output_type": "stream",
     "text": [
      "Training model | Epochs:  23%|██▎       | 7/30 [02:10<07:16, 18.96s/it]"
     ]
    },
    {
     "name": "stdout",
     "output_type": "stream",
     "text": [
      "Test accuracy: 0.715234375\n"
     ]
    },
    {
     "name": "stderr",
     "output_type": "stream",
     "text": [
      "Training model | Epochs:  30%|███       | 9/30 [02:46<06:37, 18.92s/it]"
     ]
    },
    {
     "name": "stdout",
     "output_type": "stream",
     "text": [
      "Test accuracy: 0.7306640625\n"
     ]
    },
    {
     "name": "stderr",
     "output_type": "stream",
     "text": [
      "Training model | Epochs:  37%|███▋      | 11/30 [03:22<05:56, 18.76s/it]"
     ]
    },
    {
     "name": "stdout",
     "output_type": "stream",
     "text": [
      "Test accuracy: 0.725390625\n"
     ]
    },
    {
     "name": "stderr",
     "output_type": "stream",
     "text": [
      "Training model | Epochs:  43%|████▎     | 13/30 [03:59<05:21, 18.89s/it]"
     ]
    },
    {
     "name": "stdout",
     "output_type": "stream",
     "text": [
      "Test accuracy: 0.7333984375\n"
     ]
    },
    {
     "name": "stderr",
     "output_type": "stream",
     "text": [
      "Training model | Epochs:  50%|█████     | 15/30 [04:34<04:40, 18.72s/it]"
     ]
    },
    {
     "name": "stdout",
     "output_type": "stream",
     "text": [
      "Test accuracy: 0.72265625\n"
     ]
    },
    {
     "name": "stderr",
     "output_type": "stream",
     "text": [
      "Training model | Epochs:  57%|█████▋    | 17/30 [05:09<03:57, 18.29s/it]"
     ]
    },
    {
     "name": "stdout",
     "output_type": "stream",
     "text": [
      "Test accuracy: 0.7140625\n"
     ]
    },
    {
     "name": "stderr",
     "output_type": "stream",
     "text": [
      "Training model | Epochs:  63%|██████▎   | 19/30 [05:44<03:21, 18.29s/it]"
     ]
    },
    {
     "name": "stdout",
     "output_type": "stream",
     "text": [
      "Test accuracy: 0.73046875\n"
     ]
    },
    {
     "name": "stderr",
     "output_type": "stream",
     "text": [
      "Training model | Epochs:  70%|███████   | 21/30 [06:18<02:41, 17.98s/it]"
     ]
    },
    {
     "name": "stdout",
     "output_type": "stream",
     "text": [
      "Test accuracy: 0.7388671875\n"
     ]
    },
    {
     "name": "stderr",
     "output_type": "stream",
     "text": [
      "Training model | Epochs:  77%|███████▋  | 23/30 [06:53<02:05, 17.92s/it]"
     ]
    },
    {
     "name": "stdout",
     "output_type": "stream",
     "text": [
      "Test accuracy: 0.738671875\n"
     ]
    },
    {
     "name": "stderr",
     "output_type": "stream",
     "text": [
      "Training model | Epochs:  83%|████████▎ | 25/30 [07:27<01:29, 17.98s/it]"
     ]
    },
    {
     "name": "stdout",
     "output_type": "stream",
     "text": [
      "Test accuracy: 0.7404296875\n"
     ]
    },
    {
     "name": "stderr",
     "output_type": "stream",
     "text": [
      "Training model | Epochs:  90%|█████████ | 27/30 [08:01<00:53, 17.88s/it]"
     ]
    },
    {
     "name": "stdout",
     "output_type": "stream",
     "text": [
      "Test accuracy: 0.740234375\n"
     ]
    },
    {
     "name": "stderr",
     "output_type": "stream",
     "text": [
      "Training model | Epochs:  97%|█████████▋| 29/30 [08:35<00:17, 17.79s/it]"
     ]
    },
    {
     "name": "stdout",
     "output_type": "stream",
     "text": [
      "Test accuracy: 0.74296875\n"
     ]
    },
    {
     "name": "stderr",
     "output_type": "stream",
     "text": [
      "Training model | Epochs: 100%|██████████| 30/30 [08:48<00:00, 17.62s/it]\n"
     ]
    },
    {
     "name": "stdout",
     "output_type": "stream",
     "text": [
      "Test accuracy: 0.7423828125\n"
     ]
    }
   ],
   "source": [
    "# load model with pre-trained weights\n",
    "n_epochs = 30\n",
    "model = SimpleCNN()#\n",
    "train(n_epochs, model, train_loader, test_loader)"
   ]
  },
  {
   "cell_type": "code",
   "execution_count": 35,
   "metadata": {},
   "outputs": [
    {
     "name": "stdout",
     "output_type": "stream",
     "text": [
      "{0.1111111111111111: AddGaussianNoise(mean=0, std=0.1111111111111111), 0.2222222222222222: AddGaussianNoise(mean=0, std=0.2222222222222222), 0.3333333333333333: AddGaussianNoise(mean=0, std=0.3333333333333333), 0.4444444444444444: AddGaussianNoise(mean=0, std=0.4444444444444444), 0.5555555555555556: AddGaussianNoise(mean=0, std=0.5555555555555556), 0.6666666666666666: AddGaussianNoise(mean=0, std=0.6666666666666666), 0.7777777777777777: AddGaussianNoise(mean=0, std=0.7777777777777777), 0.8888888888888888: AddGaussianNoise(mean=0, std=0.8888888888888888), 1.0: AddGaussianNoise(mean=0, std=1.0)}\n"
     ]
    }
   ],
   "source": [
    "std_dev_upper_bound = 1\n",
    "n_perturbations = 9\n",
    "noises = {std_dev_upper_bound / n_perturbations * i: AddGaussianNoise(mean=0, std=std_dev_upper_bound / n_perturbations * i) for i in range(1, n_perturbations + 1)}\n",
    "\n",
    "print(noises)"
   ]
  },
  {
   "cell_type": "code",
   "execution_count": 48,
   "metadata": {},
   "outputs": [
    {
     "name": "stdout",
     "output_type": "stream",
     "text": [
      "Base model forget entropy: 0.023897042943333717\n"
     ]
    },
    {
     "name": "stderr",
     "output_type": "stream",
     "text": [
      " 11%|█         | 1/9 [00:07<00:59,  7.46s/it]"
     ]
    },
    {
     "name": "stdout",
     "output_type": "stream",
     "text": [
      "Entropy: 0.03890420891915702 || Norm: 6.115081608390808\n"
     ]
    },
    {
     "name": "stderr",
     "output_type": "stream",
     "text": [
      " 22%|██▏       | 2/9 [00:14<00:51,  7.35s/it]"
     ]
    },
    {
     "name": "stdout",
     "output_type": "stream",
     "text": [
      "Entropy: 0.09919104421691147 || Norm: 12.116986591529846\n"
     ]
    },
    {
     "name": "stderr",
     "output_type": "stream",
     "text": [
      " 33%|███▎      | 3/9 [00:21<00:43,  7.29s/it]"
     ]
    },
    {
     "name": "stdout",
     "output_type": "stream",
     "text": [
      "Entropy: 0.173687440066121 || Norm: 17.962078419685362\n"
     ]
    },
    {
     "name": "stderr",
     "output_type": "stream",
     "text": [
      " 44%|████▍     | 4/9 [00:29<00:36,  7.31s/it]"
     ]
    },
    {
     "name": "stdout",
     "output_type": "stream",
     "text": [
      "Entropy: 0.2194017540431666 || Norm: 23.6617239528656\n"
     ]
    },
    {
     "name": "stderr",
     "output_type": "stream",
     "text": [
      " 56%|█████▌    | 5/9 [00:37<00:30,  7.64s/it]"
     ]
    },
    {
     "name": "stdout",
     "output_type": "stream",
     "text": [
      "Entropy: 0.2529031418022895 || Norm: 29.170637591171264\n"
     ]
    },
    {
     "name": "stderr",
     "output_type": "stream",
     "text": [
      " 67%|██████▋   | 6/9 [00:45<00:22,  7.62s/it]"
     ]
    },
    {
     "name": "stdout",
     "output_type": "stream",
     "text": [
      "Entropy: 0.2605108050519959 || Norm: 34.49876219367981\n"
     ]
    },
    {
     "name": "stderr",
     "output_type": "stream",
     "text": [
      " 78%|███████▊  | 7/9 [00:52<00:14,  7.41s/it]"
     ]
    },
    {
     "name": "stdout",
     "output_type": "stream",
     "text": [
      "Entropy: 0.2386386014864805 || Norm: 39.62099192047119\n"
     ]
    },
    {
     "name": "stderr",
     "output_type": "stream",
     "text": [
      " 89%|████████▉ | 8/9 [00:59<00:07,  7.36s/it]"
     ]
    },
    {
     "name": "stdout",
     "output_type": "stream",
     "text": [
      "Entropy: 0.21300278533251804 || Norm: 44.52134354324341\n"
     ]
    },
    {
     "name": "stderr",
     "output_type": "stream",
     "text": [
      "100%|██████████| 9/9 [01:06<00:00,  7.36s/it]"
     ]
    },
    {
     "name": "stdout",
     "output_type": "stream",
     "text": [
      "Entropy: 0.1867553043340846 || Norm: 49.23367369918823\n"
     ]
    },
    {
     "name": "stderr",
     "output_type": "stream",
     "text": [
      "\n"
     ]
    }
   ],
   "source": [
    "# compute the entropy of the model over the forget set\n",
    "base_model_forget_entropy, base_model_var, base_entropy_list = calculate_mean_entropy(model, forget_loader)\n",
    "print(f\"Base model forget entropy: {base_model_forget_entropy}\")\n",
    "\n",
    "base_values = {0: base_model_forget_entropy}\n",
    "base_var = {0: base_model_var}\n",
    "for noise in tqdm(noises.values()):\n",
    "    entropy, norm, var = calculate_entropy_and_norm(model, forget_loader, noise)\n",
    "    tqdm.write(f\"Entropy: {entropy} || Norm: {norm}\")\n",
    "    base_values[norm] = entropy\n",
    "    base_var[norm] = var"
   ]
  },
  {
   "cell_type": "code",
   "execution_count": 37,
   "metadata": {},
   "outputs": [
    {
     "name": "stderr",
     "output_type": "stream",
     "text": [
      "Training model | Epochs:   3%|▎         | 1/30 [00:20<09:58, 20.63s/it]"
     ]
    },
    {
     "name": "stdout",
     "output_type": "stream",
     "text": [
      "Test accuracy: 0.5431640625\n"
     ]
    },
    {
     "name": "stderr",
     "output_type": "stream",
     "text": [
      "Training model | Epochs:  10%|█         | 3/30 [00:53<08:06, 18.03s/it]"
     ]
    },
    {
     "name": "stdout",
     "output_type": "stream",
     "text": [
      "Test accuracy: 0.6466796875\n"
     ]
    },
    {
     "name": "stderr",
     "output_type": "stream",
     "text": [
      "Training model | Epochs:  17%|█▋        | 5/30 [01:26<07:17, 17.51s/it]"
     ]
    },
    {
     "name": "stdout",
     "output_type": "stream",
     "text": [
      "Test accuracy: 0.69609375\n"
     ]
    },
    {
     "name": "stderr",
     "output_type": "stream",
     "text": [
      "Training model | Epochs:  23%|██▎       | 7/30 [01:59<06:37, 17.28s/it]"
     ]
    },
    {
     "name": "stdout",
     "output_type": "stream",
     "text": [
      "Test accuracy: 0.701953125\n"
     ]
    },
    {
     "name": "stderr",
     "output_type": "stream",
     "text": [
      "Training model | Epochs:  30%|███       | 9/30 [02:32<06:03, 17.31s/it]"
     ]
    },
    {
     "name": "stdout",
     "output_type": "stream",
     "text": [
      "Test accuracy: 0.668359375\n"
     ]
    },
    {
     "name": "stderr",
     "output_type": "stream",
     "text": [
      "Training model | Epochs:  37%|███▋      | 11/30 [03:05<05:27, 17.23s/it]"
     ]
    },
    {
     "name": "stdout",
     "output_type": "stream",
     "text": [
      "Test accuracy: 0.6876953125\n"
     ]
    },
    {
     "name": "stderr",
     "output_type": "stream",
     "text": [
      "Training model | Epochs:  43%|████▎     | 13/30 [03:38<04:50, 17.09s/it]"
     ]
    },
    {
     "name": "stdout",
     "output_type": "stream",
     "text": [
      "Test accuracy: 0.6748046875\n"
     ]
    },
    {
     "name": "stderr",
     "output_type": "stream",
     "text": [
      "Training model | Epochs:  50%|█████     | 15/30 [04:11<04:17, 17.16s/it]"
     ]
    },
    {
     "name": "stdout",
     "output_type": "stream",
     "text": [
      "Test accuracy: 0.6833984375\n"
     ]
    },
    {
     "name": "stderr",
     "output_type": "stream",
     "text": [
      "Training model | Epochs:  57%|█████▋    | 17/30 [04:44<03:43, 17.16s/it]"
     ]
    },
    {
     "name": "stdout",
     "output_type": "stream",
     "text": [
      "Test accuracy: 0.677734375\n"
     ]
    },
    {
     "name": "stderr",
     "output_type": "stream",
     "text": [
      "Training model | Epochs:  63%|██████▎   | 19/30 [05:17<03:08, 17.12s/it]"
     ]
    },
    {
     "name": "stdout",
     "output_type": "stream",
     "text": [
      "Test accuracy: 0.6755859375\n"
     ]
    },
    {
     "name": "stderr",
     "output_type": "stream",
     "text": [
      "Training model | Epochs:  70%|███████   | 21/30 [05:50<02:34, 17.13s/it]"
     ]
    },
    {
     "name": "stdout",
     "output_type": "stream",
     "text": [
      "Test accuracy: 0.7021484375\n"
     ]
    },
    {
     "name": "stderr",
     "output_type": "stream",
     "text": [
      "Training model | Epochs:  77%|███████▋  | 23/30 [06:23<01:59, 17.11s/it]"
     ]
    },
    {
     "name": "stdout",
     "output_type": "stream",
     "text": [
      "Test accuracy: 0.7025390625\n"
     ]
    },
    {
     "name": "stderr",
     "output_type": "stream",
     "text": [
      "Training model | Epochs:  83%|████████▎ | 25/30 [06:55<01:25, 17.05s/it]"
     ]
    },
    {
     "name": "stdout",
     "output_type": "stream",
     "text": [
      "Test accuracy: 0.709765625\n"
     ]
    },
    {
     "name": "stderr",
     "output_type": "stream",
     "text": [
      "Training model | Epochs:  90%|█████████ | 27/30 [07:28<00:51, 17.07s/it]"
     ]
    },
    {
     "name": "stdout",
     "output_type": "stream",
     "text": [
      "Test accuracy: 0.725\n"
     ]
    },
    {
     "name": "stderr",
     "output_type": "stream",
     "text": [
      "Training model | Epochs:  97%|█████████▋| 29/30 [08:03<00:17, 17.49s/it]"
     ]
    },
    {
     "name": "stdout",
     "output_type": "stream",
     "text": [
      "Test accuracy: 0.72890625\n"
     ]
    },
    {
     "name": "stderr",
     "output_type": "stream",
     "text": [
      "Training model | Epochs: 100%|██████████| 30/30 [08:16<00:00, 16.54s/it]\n"
     ]
    },
    {
     "name": "stdout",
     "output_type": "stream",
     "text": [
      "Test accuracy: 0.7302734375\n"
     ]
    }
   ],
   "source": [
    "# retrained model\n",
    "retrained_model = SimpleCNN()\n",
    "train(n_epochs, retrained_model, retain_loader, test_loader)"
   ]
  },
  {
   "cell_type": "code",
   "execution_count": 49,
   "metadata": {},
   "outputs": [
    {
     "name": "stdout",
     "output_type": "stream",
     "text": [
      "Retrain model forget entropy: 0.20579244866434346\n"
     ]
    },
    {
     "name": "stderr",
     "output_type": "stream",
     "text": [
      " 11%|█         | 1/9 [00:06<00:55,  6.92s/it]"
     ]
    },
    {
     "name": "stdout",
     "output_type": "stream",
     "text": [
      "Entropy: 0.2088330036202336 || Norm: 6.115993170166016\n"
     ]
    },
    {
     "name": "stderr",
     "output_type": "stream",
     "text": [
      " 22%|██▏       | 2/9 [00:14<00:49,  7.06s/it]"
     ]
    },
    {
     "name": "stdout",
     "output_type": "stream",
     "text": [
      "Entropy: 0.22259167921165926 || Norm: 12.111603282356262\n"
     ]
    },
    {
     "name": "stderr",
     "output_type": "stream",
     "text": [
      " 33%|███▎      | 3/9 [00:21<00:42,  7.01s/it]"
     ]
    },
    {
     "name": "stdout",
     "output_type": "stream",
     "text": [
      "Entropy: 0.23603236863701177 || Norm: 17.959575052452088\n"
     ]
    },
    {
     "name": "stderr",
     "output_type": "stream",
     "text": [
      " 44%|████▍     | 4/9 [00:28<00:35,  7.13s/it]"
     ]
    },
    {
     "name": "stdout",
     "output_type": "stream",
     "text": [
      "Entropy: 0.24674558247027117 || Norm: 23.65188020401001\n"
     ]
    },
    {
     "name": "stderr",
     "output_type": "stream",
     "text": [
      " 56%|█████▌    | 5/9 [00:36<00:29,  7.47s/it]"
     ]
    },
    {
     "name": "stdout",
     "output_type": "stream",
     "text": [
      "Entropy: 0.25501118986427884 || Norm: 29.17321080970764\n"
     ]
    },
    {
     "name": "stderr",
     "output_type": "stream",
     "text": [
      " 67%|██████▋   | 6/9 [00:43<00:22,  7.50s/it]"
     ]
    },
    {
     "name": "stdout",
     "output_type": "stream",
     "text": [
      "Entropy: 0.2548476897536808 || Norm: 34.50569793968201\n"
     ]
    },
    {
     "name": "stderr",
     "output_type": "stream",
     "text": [
      " 78%|███████▊  | 7/9 [00:51<00:14,  7.42s/it]"
     ]
    },
    {
     "name": "stdout",
     "output_type": "stream",
     "text": [
      "Entropy: 0.24011229300502532 || Norm: 39.62811710510254\n"
     ]
    },
    {
     "name": "stderr",
     "output_type": "stream",
     "text": [
      " 89%|████████▉ | 8/9 [00:58<00:07,  7.38s/it]"
     ]
    },
    {
     "name": "stdout",
     "output_type": "stream",
     "text": [
      "Entropy: 0.2123967406498904 || Norm: 44.528275400543215\n"
     ]
    },
    {
     "name": "stderr",
     "output_type": "stream",
     "text": [
      "100%|██████████| 9/9 [01:05<00:00,  7.30s/it]"
     ]
    },
    {
     "name": "stdout",
     "output_type": "stream",
     "text": [
      "Entropy: 0.18576243918748597 || Norm: 49.20664432449341\n"
     ]
    },
    {
     "name": "stderr",
     "output_type": "stream",
     "text": [
      "\n"
     ]
    }
   ],
   "source": [
    "# compute the entropy of the model over the forget set\n",
    "retrain_model_forget_entropy, ret_var, retrain_entropy_list = calculate_mean_entropy(retrained_model, forget_loader)\n",
    "print(f\"Retrain model forget entropy: {retrain_model_forget_entropy}\")\n",
    "\n",
    "retrain_values = {0: retrain_model_forget_entropy}\n",
    "retrain_var = {0: ret_var}\n",
    "for noise in tqdm(noises.values()):\n",
    "    entropy, norm, var = calculate_entropy_and_norm(retrained_model, forget_loader, noise)\n",
    "    tqdm.write(f\"Entropy: {entropy} || Norm: {norm}\")\n",
    "    retrain_values[norm] = entropy\n",
    "    retrain_var[norm] = var"
   ]
  },
  {
   "cell_type": "code",
   "execution_count": 39,
   "metadata": {},
   "outputs": [],
   "source": [
    "from copy import deepcopy\n",
    "\n",
    "def lipschitz_unlearning(lipschitz_model, opt, forget_loader, noise):\n",
    "    for sample in forget_loader:\n",
    "        x = sample[0].to(DEVICE)\n",
    "        image = x.unsqueeze(0) if x.dim() == 3 else x\n",
    "        out = lipschitz_model(image)                            \n",
    "        loss = torch.tensor(0.0, device=DEVICE)\n",
    "        #Build comparison images\n",
    "        \n",
    "        for _ in range(100):   \n",
    "            img2 = noise(deepcopy(x))\n",
    "\n",
    "            image2 = img2.unsqueeze(0) if img2.dim() == 3 else img2\n",
    "            \n",
    "            with torch.no_grad():\n",
    "                out2 = lipschitz_model(image2)\n",
    "            # out2 = self.model(image2)\n",
    "            #ignore batch dimension        \n",
    "            flatimg, flatimg2 = image.view(image.size()[0], -1), image2.view(image2.size()[0], -1)\n",
    "\n",
    "            in_norm = torch.linalg.vector_norm(flatimg - flatimg2, dim=1)              \n",
    "            out_norm = torch.linalg.vector_norm(out - out2, dim=1)\n",
    "            #K = 0.001 * ((0.4- (out_norm / in_norm)).sum()).abs()#1*((0.08-\n",
    "            K =  ((out_norm / in_norm).sum()).abs()#pow(2)#  0.1                                                \n",
    "            loss += K\n",
    "        loss /= 100\n",
    "        opt.zero_grad()\n",
    "        loss.backward()\n",
    "        opt.step()\n"
   ]
  },
  {
   "cell_type": "code",
   "execution_count": 63,
   "metadata": {},
   "outputs": [
    {
     "name": "stdout",
     "output_type": "stream",
     "text": [
      "5000\n",
      "Unlearnt!\n",
      "Lipschitz model forget entropy: 0.19667817230306114\n"
     ]
    }
   ],
   "source": [
    "print(len(forget_loader.dataset))\n",
    "lipschitz_model = deepcopy(model)\n",
    "opt = optim.SGD(lipschitz_model.parameters(), lr=0.00002) #0.000025\n",
    "lipschitz_unlearning(lipschitz_model, opt, forget_loader, AddGaussianNoise(std=0.8)) #1\n",
    "print(\"Unlearnt!\")\n",
    "lip_entropy, lip_var, lip_entropy_list = calculate_mean_entropy(lipschitz_model, forget_loader)\n",
    "lipschitz_values = {0: lip_entropy}\n",
    "lipschitz_var = {0: lip_var}\n",
    "print(f\"Lipschitz model forget entropy: {lip_entropy}\")\n",
    "\n",
    "# #Lipschitz model\n",
    "# for noise in tqdm(noises.values()):    \n",
    "#     entropy, norm, var = calculate_entropy_and_norm(lipschitz_model, forget_loader, noise)\n",
    "#     tqdm.write(f\"Entropy: {entropy} || Norm: {norm}\")\n",
    "#     lipschitz_values[norm] = entropy\n",
    "#     lipschitz_var[norm] = var"
   ]
  },
  {
   "cell_type": "code",
   "execution_count": 51,
   "metadata": {},
   "outputs": [
    {
     "name": "stdout",
     "output_type": "stream",
     "text": [
      "[0.023897042943333717, 0.03890420891915702, 0.09919104421691147, 0.173687440066121, 0.2194017540431666, 0.2529031418022895, 0.2605108050519959, 0.2386386014864805, 0.21300278533251804, 0.1867553043340846]\n",
      "dict_keys([0, 6.115081608390808, 12.116986591529846, 17.962078419685362, 23.6617239528656, 29.170637591171264, 34.49876219367981, 39.62099192047119, 44.52134354324341, 49.23367369918823])\n",
      "10 10 10 10\n"
     ]
    },
    {
     "data": {
      "image/png": "[encoded data removed]",
      "text/plain": [
       "<Figure size 640x480 with 1 Axes>"
      ]
     },
     "metadata": {},
     "output_type": "display_data"
    }
   ],
   "source": [
    "base_line = list(base_values.values())\n",
    "retrain_line = list(retrain_values.values())\n",
    "lipschitz_line = list(lipschitz_values.values())\n",
    "print(base_line)\n",
    "print(base_values.keys())\n",
    "\n",
    "xs = [0] + [std_dev_upper_bound / n_perturbations * i for i in range(1, n_perturbations + 1)]\n",
    "print(len(xs), len(base_line), len(retrain_line), len(lipschitz_line))\n",
    "#plot error bars\n",
    "# plt.errorbar(xs, base_line, yerr=list(base_var.values()), label=\"Base\")\n",
    "# plt.errorbar(xs, retrain_line, yerr=list(retrain_var.values()), label=\"Retrain\")\n",
    "# plt.errorbar(xs, lipschitz_line, yerr=list(lipschitz_var.values()), label=\"Lipschitz\")\n",
    "\n",
    "# #plot lines\n",
    "plt.plot(xs, base_line, label=\"Base\")\n",
    "plt.plot(xs, retrain_line, label=\"Retrain\")\n",
    "plt.plot(xs, lipschitz_line, label=\"Lipschitz\")\n",
    "\n",
    "plt.title(\"Entropy against Additive Gaussian Noise σ\")\n",
    "plt.xlabel(\"Noise σ\")\n",
    "plt.ylabel(\"Entropy\")\n",
    "plt.legend()\n",
    "plt.show()"
   ]
  },
  {
   "cell_type": "code",
   "execution_count": 64,
   "metadata": {},
   "outputs": [
    {
     "data": {
      "image/png": "[encoded data removed]",
      "text/plain": [
       "<Figure size 800x600 with 1 Axes>"
      ]
     },
     "metadata": {},
     "output_type": "display_data"
    }
   ],
   "source": [
    "make_boxplot(\n",
    "    [base_entropy_list, lip_entropy_list, retrain_entropy_list],\n",
    "    title=\"Entropy of Model Forget Set Predictions\",\n",
    "    x_label=\"Method\",\n",
    "    y_label=\"Entropy\",\n",
    "    x_ticklabels=[\"Base Model\", \"Lipschitz Unlearning\", \"Retrained Model\"],\n",
    "    save_path=\"entropy.png\",\n",
    "    showfliers = False)"
   ]
  },
  {
   "cell_type": "code",
   "execution_count": 65,
   "metadata": {},
   "outputs": [
    {
     "data": {
      "image/png": "[encoded data removed]",
      "text/plain": [
       "<Figure size 640x480 with 1 Axes>"
      ]
     },
     "metadata": {},
     "output_type": "display_data"
    }
   ],
   "source": [
    "# plot histogram\n",
    "plt.hist(-np.log(retrain_entropy_list), bins=20, label=\"Retrain\", alpha=0.75, color='orange')\n",
    "plt.hist(-np.log(lip_entropy_list), bins=20, label=\"Lipschitz\", alpha=0.75, color='g')\n",
    "plt.hist(-np.log(base_entropy_list), bins=20, label=\"Base\", alpha=0.75, color='b')\n",
    "plt.title(\"Entropy of Model Predictions (Log Scale)\")\n",
    "plt.xlabel(\"Entropy\")\n",
    "plt.ylabel(\"Frequency\")\n",
    "plt.legend()\n",
    "plt.show()"
   ]
  },
  {
   "cell_type": "code",
   "execution_count": 66,
   "metadata": {},
   "outputs": [
    {
     "name": "stdout",
     "output_type": "stream",
     "text": [
      "Wilcoxon for Base model and Retrained model: p=1.3115727630339086e-264\n",
      "Wilcoxon for Base model and Lipschitz model: p=1.6481137897159184e-288\n",
      "Wilcoxon for Lipschitz model and Retrained model: p=0.9085219870084502\n"
     ]
    }
   ],
   "source": [
    "from scipy.stats import wilcoxon\n",
    "\n",
    "print(f'Wilcoxon for Base model and Retrained model: p={wilcoxon(base_entropy_list, retrain_entropy_list)[1]}')\n",
    "print(f'Wilcoxon for Base model and Lipschitz model: p={wilcoxon(base_entropy_list, lip_entropy_list)[1]}')\n",
    "print(f'Wilcoxon for Lipschitz model and Retrained model: p={wilcoxon(lip_entropy_list, retrain_entropy_list)[1]}')"
   ]
  },
  {
   "cell_type": "code",
   "execution_count": 67,
   "metadata": {},
   "outputs": [
    {
     "name": "stdout",
     "output_type": "stream",
     "text": [
      "Base model forget entropy: 0.02266535240683401\n",
      "Retrain model forget entropy: 0.019551020706744245\n",
      "Lipschitz model forget entropy: 0.019551020706744245\n"
     ]
    }
   ],
   "source": [
    "base_model_retain_entropy, base_model_var, base_entropy_list = calculate_mean_entropy(model, retain_loader)\n",
    "print(f\"Base model forget entropy: {base_model_retain_entropy}\")\n",
    "\n",
    "retrain_model_retain_entropy, ret_var, retrain_entropy_list = calculate_mean_entropy(retrained_model, retain_loader)\n",
    "print(f\"Retrain model forget entropy: {retrain_model_retain_entropy}\")\n",
    "\n",
    "lip_entropy, lip_var, lip_entropy_list = calculate_mean_entropy(lipschitz_model, retain_loader)\n",
    "print(f\"Lipschitz model forget entropy: {lip_entropy}\")\n"
   ]
  },
  {
   "cell_type": "code",
   "execution_count": 68,
   "metadata": {},
   "outputs": [
    {
     "data": {
      "image/png": "[encoded data removed]",
      "text/plain": [
       "<Figure size 800x600 with 1 Axes>"
      ]
     },
     "metadata": {},
     "output_type": "display_data"
    }
   ],
   "source": [
    "make_boxplot(\n",
    "    [base_entropy_list, lip_entropy_list, retrain_entropy_list],\n",
    "    title=\"Entropy of Model Retain Set Predictions\",\n",
    "    x_label=\"Method\",\n",
    "    y_label=\"Entropy\",\n",
    "    x_ticklabels=[\"Base Model\", \"Lipschitz Unlearning\", \"Retrained Model\"],\n",
    "    save_path=\"entropy.png\",)"
   ]
  },
  {
   "cell_type": "code",
   "execution_count": 69,
   "metadata": {},
   "outputs": [
    {
     "name": "stdout",
     "output_type": "stream",
     "text": [
      "Retain Set: \n",
      "\n",
      "Wilcoxon for Base model and Retrained model: p=0.0\n",
      "Wilcoxon for Base model and Lipschitz model: p=0.0\n",
      "Wilcoxon for Lipschitz model and Retrained model: p=0.0\n"
     ]
    }
   ],
   "source": [
    "from scipy.stats import wilcoxon\n",
    "print(\"Retain Set: \\n\")\n",
    "print(f'Wilcoxon for Base model and Retrained model: p={wilcoxon(base_entropy_list, retrain_entropy_list)[1]}')\n",
    "print(f'Wilcoxon for Base model and Lipschitz model: p={wilcoxon(base_entropy_list, lip_entropy_list)[1]}')\n",
    "print(f'Wilcoxon for Lipschitz model and Retrained model: p={wilcoxon(lip_entropy_list, retrain_entropy_list)[1]}')"
   ]
  },
  {
   "cell_type": "code",
   "execution_count": null,
   "metadata": {},
   "outputs": [],
   "source": []
  }
 ],
 "metadata": {
  "kernelspec": {
   "display_name": "phd",
   "language": "python",
   "name": "python3"
  },
  "language_info": {
   "codemirror_mode": {
    "name": "ipython",
    "version": 3
   },
   "file_extension": ".py",
   "mimetype": "text/x-python",
   "name": "python",
   "nbconvert_exporter": "python",
   "pygments_lexer": "ipython3",
   "version": "3.11.7"
  }
 },
 "nbformat": 4,
 "nbformat_minor": 2
}
